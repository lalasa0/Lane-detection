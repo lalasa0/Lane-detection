{
 "cells": [
  {
   "cell_type": "code",
   "execution_count": 2,
   "id": "653d0060",
   "metadata": {},
   "outputs": [],
   "source": [
    "import cv2\n",
    "import numpy as np"
   ]
  },
  {
   "cell_type": "code",
   "execution_count": 3,
   "id": "b07f3b98",
   "metadata": {},
   "outputs": [],
   "source": [
    "video = cv2.VideoCapture(\"https://drive.google.com/file/d/1LzDWN5xe3FxtNJoKeWEbqj_2G9bLl8hI/view?usp=drive_link\")"
   ]
  },
  {
   "cell_type": "code",
   "execution_count": null,
   "id": "328f96b9",
   "metadata": {},
   "outputs": [],
   "source": [
    "while True:\n",
    "    ret,or_frame=video.read()\n",
    "    if not ret:\n",
    "        video=cv2.VideoCapture(\"https://drive.google.com/file/d/1LzDWN5xe3FxtNJoKeWEbqj_2G9bLl8hI/view?usp=drive_link\")\n",
    "        continue\n",
    "    frame=cv2.GausianBlur(or_frame,(5,5),0)\n",
    "    hsv=cv2.cvtcolor(frame,cv2.COLOR_BGR2HSV)\n",
    "    lower_y=np.array([18,94,140])\n",
    "    upper_y=np.array([18,255,255])\n",
    "    mask=cv2.inRange(hsv,lower_y,upper_y)\n",
    "    edges=cv2.canny(mask,74,150)\n",
    "    lines=cv2.HoughLinesP(edges,1,np.pi/180,50,maxLineGap=50)\n",
    "    if lines is not None:\n",
    "        for line in lines:\n",
    "            x1,y1,x2,y2=line[0]\n",
    "            cv2.line(frame,(x1,y1),(x2,y2),(0,255,0),5)\n",
    "    cv2.imshow(\"frame\",frame)\n",
    "    cv2.imshow(\"edges\",edges)\n",
    "    key=cv2.waitkey(25)\n",
    "    if(key==27):\n",
    "        break"
   ]
  },
  {
   "cell_type": "code",
   "execution_count": null,
   "id": "d6bceb93",
   "metadata": {},
   "outputs": [],
   "source": []
  }
 ],
 "metadata": {
  "kernelspec": {
   "display_name": "Python 3 (ipykernel)",
   "language": "python",
   "name": "python3"
  },
  "language_info": {
   "codemirror_mode": {
    "name": "ipython",
    "version": 3
   },
   "file_extension": ".py",
   "mimetype": "text/x-python",
   "name": "python",
   "nbconvert_exporter": "python",
   "pygments_lexer": "ipython3",
   "version": "3.11.3"
  }
 },
 "nbformat": 4,
 "nbformat_minor": 5
}
